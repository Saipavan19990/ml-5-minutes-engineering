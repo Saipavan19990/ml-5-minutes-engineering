{
 "cells": [
  {
   "cell_type": "code",
   "execution_count": 44,
   "metadata": {},
   "outputs": [],
   "source": [
    "class Lreg:\n",
    "    \n",
    "    def __init__(self):   #m,b are arguments \n",
    "        \n",
    "        self.m = None\n",
    "        self.b = None\n",
    "        \n",
    "    def fit(self,X_train,y_train):\n",
    "        \n",
    "        num = 0\n",
    "        den = 0\n",
    "        \n",
    "        for i in range(X_train.shape[0]):   #loop till i=160\n",
    "            \n",
    "            num = num + ((X_train[i] - X_train.mean())*(y_train[i] - y_train.mean()))\n",
    "            den = den + ((X_train[i] - X_train.mean())*(X_train[i] - X_train.mean()))\n",
    "            #in loop adding each and every loop\n",
    "            \n",
    "\n",
    "        self.m = num/den    \n",
    "        self.b = y_train.mean() - (self.m * X_train.mean())\n",
    "        print(\"m :\",self.m)\n",
    "        print(\"b :\",self.b)       \n",
    "    \n",
    "    def predict(self,X_test):\n",
    "        \n",
    "        print(X_test)\n",
    "        \n",
    "        return self.m * X_test + self.b"
   ]
  },
  {
   "cell_type": "code",
   "execution_count": 32,
   "metadata": {},
   "outputs": [
    {
     "data": {
      "text/plain": [
       "1"
      ]
     },
     "execution_count": 32,
     "metadata": {},
     "output_type": "execute_result"
    }
   ],
   "source": [
    "X_train.shape[1]"
   ]
  },
  {
   "cell_type": "code",
   "execution_count": 33,
   "metadata": {},
   "outputs": [],
   "source": [
    "import pandas as pd\n",
    "import numpy as np"
   ]
  },
  {
   "cell_type": "code",
   "execution_count": 34,
   "metadata": {},
   "outputs": [],
   "source": [
    "df = pd.read_csv(\"placement.csv\")"
   ]
  },
  {
   "cell_type": "code",
   "execution_count": 35,
   "metadata": {},
   "outputs": [
    {
     "data": {
      "text/html": [
       "<div>\n",
       "<style scoped>\n",
       "    .dataframe tbody tr th:only-of-type {\n",
       "        vertical-align: middle;\n",
       "    }\n",
       "\n",
       "    .dataframe tbody tr th {\n",
       "        vertical-align: top;\n",
       "    }\n",
       "\n",
       "    .dataframe thead th {\n",
       "        text-align: right;\n",
       "    }\n",
       "</style>\n",
       "<table border=\"1\" class=\"dataframe\">\n",
       "  <thead>\n",
       "    <tr style=\"text-align: right;\">\n",
       "      <th></th>\n",
       "      <th>cgpa</th>\n",
       "      <th>package</th>\n",
       "    </tr>\n",
       "  </thead>\n",
       "  <tbody>\n",
       "    <tr>\n",
       "      <th>0</th>\n",
       "      <td>6.89</td>\n",
       "      <td>3.26</td>\n",
       "    </tr>\n",
       "    <tr>\n",
       "      <th>1</th>\n",
       "      <td>5.12</td>\n",
       "      <td>1.98</td>\n",
       "    </tr>\n",
       "    <tr>\n",
       "      <th>2</th>\n",
       "      <td>7.82</td>\n",
       "      <td>3.25</td>\n",
       "    </tr>\n",
       "    <tr>\n",
       "      <th>3</th>\n",
       "      <td>7.42</td>\n",
       "      <td>3.67</td>\n",
       "    </tr>\n",
       "    <tr>\n",
       "      <th>4</th>\n",
       "      <td>6.94</td>\n",
       "      <td>3.57</td>\n",
       "    </tr>\n",
       "  </tbody>\n",
       "</table>\n",
       "</div>"
      ],
      "text/plain": [
       "   cgpa  package\n",
       "0  6.89     3.26\n",
       "1  5.12     1.98\n",
       "2  7.82     3.25\n",
       "3  7.42     3.67\n",
       "4  6.94     3.57"
      ]
     },
     "execution_count": 35,
     "metadata": {},
     "output_type": "execute_result"
    }
   ],
   "source": [
    "df.head()"
   ]
  },
  {
   "cell_type": "code",
   "execution_count": 36,
   "metadata": {},
   "outputs": [],
   "source": [
    "X = df.iloc[:,0:1].values\n",
    "Y = df.iloc[:,-1].values"
   ]
  },
  {
   "cell_type": "code",
   "execution_count": 37,
   "metadata": {},
   "outputs": [
    {
     "data": {
      "text/plain": [
       "(array([[6.89],\n",
       "        [5.12],\n",
       "        [7.82],\n",
       "        [7.42],\n",
       "        [6.94],\n",
       "        [7.89],\n",
       "        [6.73],\n",
       "        [6.75],\n",
       "        [6.09],\n",
       "        [8.31],\n",
       "        [5.32],\n",
       "        [6.61],\n",
       "        [8.94],\n",
       "        [6.93],\n",
       "        [7.73],\n",
       "        [7.25],\n",
       "        [6.84],\n",
       "        [5.38],\n",
       "        [6.94],\n",
       "        [7.48],\n",
       "        [7.28],\n",
       "        [6.85],\n",
       "        [6.14],\n",
       "        [6.19],\n",
       "        [6.53],\n",
       "        [7.28],\n",
       "        [8.31],\n",
       "        [5.42],\n",
       "        [5.94],\n",
       "        [7.15],\n",
       "        [7.36],\n",
       "        [8.1 ],\n",
       "        [6.96],\n",
       "        [6.35],\n",
       "        [7.34],\n",
       "        [6.87],\n",
       "        [5.99],\n",
       "        [5.9 ],\n",
       "        [8.62],\n",
       "        [7.43],\n",
       "        [9.38],\n",
       "        [6.89],\n",
       "        [5.95],\n",
       "        [7.66],\n",
       "        [5.09],\n",
       "        [7.87],\n",
       "        [6.07],\n",
       "        [5.84],\n",
       "        [8.63],\n",
       "        [8.87],\n",
       "        [9.58],\n",
       "        [9.26],\n",
       "        [8.37],\n",
       "        [6.47],\n",
       "        [6.86],\n",
       "        [8.2 ],\n",
       "        [5.84],\n",
       "        [6.6 ],\n",
       "        [6.92],\n",
       "        [7.56],\n",
       "        [5.61],\n",
       "        [5.48],\n",
       "        [6.34],\n",
       "        [9.16],\n",
       "        [7.36],\n",
       "        [7.6 ],\n",
       "        [5.11],\n",
       "        [6.51],\n",
       "        [7.56],\n",
       "        [7.3 ],\n",
       "        [5.79],\n",
       "        [7.47],\n",
       "        [7.78],\n",
       "        [8.44],\n",
       "        [6.85],\n",
       "        [6.97],\n",
       "        [6.94],\n",
       "        [8.99],\n",
       "        [6.59],\n",
       "        [7.18],\n",
       "        [7.63],\n",
       "        [6.1 ],\n",
       "        [5.58],\n",
       "        [8.44],\n",
       "        [4.26],\n",
       "        [4.79],\n",
       "        [7.61],\n",
       "        [8.09],\n",
       "        [4.73],\n",
       "        [6.42],\n",
       "        [7.11],\n",
       "        [6.22],\n",
       "        [7.9 ],\n",
       "        [6.79],\n",
       "        [5.83],\n",
       "        [6.63],\n",
       "        [7.11],\n",
       "        [5.98],\n",
       "        [7.69],\n",
       "        [6.61],\n",
       "        [7.95],\n",
       "        [6.71],\n",
       "        [5.13],\n",
       "        [7.05],\n",
       "        [7.62],\n",
       "        [6.66],\n",
       "        [6.13],\n",
       "        [6.33],\n",
       "        [7.76],\n",
       "        [7.77],\n",
       "        [8.18],\n",
       "        [5.42],\n",
       "        [8.58],\n",
       "        [6.94],\n",
       "        [5.84],\n",
       "        [8.35],\n",
       "        [9.04],\n",
       "        [7.12],\n",
       "        [7.4 ],\n",
       "        [7.39],\n",
       "        [5.23],\n",
       "        [6.5 ],\n",
       "        [5.12],\n",
       "        [5.1 ],\n",
       "        [6.06],\n",
       "        [7.33],\n",
       "        [5.91],\n",
       "        [6.78],\n",
       "        [7.93],\n",
       "        [7.29],\n",
       "        [6.68],\n",
       "        [6.37],\n",
       "        [5.84],\n",
       "        [6.05],\n",
       "        [7.2 ],\n",
       "        [6.1 ],\n",
       "        [5.64],\n",
       "        [7.14],\n",
       "        [7.91],\n",
       "        [7.19],\n",
       "        [7.91],\n",
       "        [6.76],\n",
       "        [6.93],\n",
       "        [4.85],\n",
       "        [6.17],\n",
       "        [5.84],\n",
       "        [6.07],\n",
       "        [5.66],\n",
       "        [7.57],\n",
       "        [8.28],\n",
       "        [6.3 ],\n",
       "        [6.12],\n",
       "        [7.37],\n",
       "        [7.94],\n",
       "        [7.08],\n",
       "        [6.98],\n",
       "        [7.38],\n",
       "        [6.47],\n",
       "        [5.95],\n",
       "        [8.71],\n",
       "        [7.13],\n",
       "        [7.3 ],\n",
       "        [5.53],\n",
       "        [8.93],\n",
       "        [9.06],\n",
       "        [8.21],\n",
       "        [8.6 ],\n",
       "        [8.13],\n",
       "        [8.65],\n",
       "        [9.31],\n",
       "        [6.22],\n",
       "        [8.01],\n",
       "        [6.93],\n",
       "        [6.75],\n",
       "        [7.32],\n",
       "        [7.04],\n",
       "        [6.29],\n",
       "        [7.09],\n",
       "        [8.15],\n",
       "        [7.14],\n",
       "        [6.19],\n",
       "        [8.22],\n",
       "        [5.88],\n",
       "        [7.28],\n",
       "        [7.88],\n",
       "        [6.31],\n",
       "        [7.84],\n",
       "        [6.26],\n",
       "        [7.35],\n",
       "        [8.11],\n",
       "        [6.19],\n",
       "        [7.28],\n",
       "        [8.25],\n",
       "        [4.57],\n",
       "        [7.89],\n",
       "        [6.93],\n",
       "        [5.89],\n",
       "        [7.21],\n",
       "        [7.63],\n",
       "        [6.22]]),\n",
       " array([3.26, 1.98, 3.25, 3.67, 3.57, 2.99, 2.6 , 2.48, 2.31, 3.51, 1.86,\n",
       "        2.6 , 3.65, 2.89, 3.42, 3.23, 2.35, 2.09, 2.98, 2.83, 3.16, 2.93,\n",
       "        2.3 , 2.48, 2.71, 3.65, 3.42, 2.16, 2.24, 3.49, 3.26, 3.89, 3.08,\n",
       "        2.73, 3.42, 2.87, 2.84, 2.43, 4.36, 3.33, 4.02, 2.7 , 2.54, 2.76,\n",
       "        1.86, 3.58, 2.26, 3.26, 4.09, 4.62, 4.43, 3.79, 4.11, 2.61, 3.09,\n",
       "        3.39, 2.74, 1.94, 3.09, 3.31, 2.19, 1.61, 2.09, 4.25, 2.92, 3.81,\n",
       "        1.63, 2.89, 2.99, 2.94, 2.35, 3.34, 3.62, 4.03, 3.44, 3.28, 3.15,\n",
       "        4.6 , 2.21, 3.  , 3.44, 2.2 , 2.17, 3.49, 1.53, 1.48, 2.77, 3.55,\n",
       "        1.48, 2.72, 2.66, 2.14, 4.  , 3.08, 2.42, 2.79, 2.61, 2.84, 3.83,\n",
       "        3.24, 4.14, 3.52, 1.37, 3.  , 3.74, 2.82, 2.19, 2.59, 3.54, 4.06,\n",
       "        3.76, 2.25, 4.1 , 2.37, 1.87, 4.21, 3.33, 2.99, 2.88, 2.65, 1.73,\n",
       "        3.02, 2.01, 2.3 , 2.31, 3.16, 2.6 , 3.11, 3.34, 3.12, 2.49, 2.01,\n",
       "        2.48, 2.58, 2.83, 2.6 , 2.1 , 3.13, 3.89, 2.4 , 3.15, 3.18, 3.04,\n",
       "        1.54, 2.42, 2.18, 2.46, 2.21, 3.4 , 3.67, 2.73, 2.76, 3.08, 3.99,\n",
       "        2.85, 3.09, 3.13, 2.7 , 3.04, 4.08, 2.93, 3.33, 2.55, 3.91, 3.82,\n",
       "        4.08, 3.98, 3.6 , 3.52, 4.37, 2.87, 3.76, 2.51, 2.56, 2.99, 3.5 ,\n",
       "        3.23, 3.64, 3.63, 3.03, 2.72, 3.89, 2.08, 2.72, 3.14, 3.18, 3.47,\n",
       "        2.44, 3.08, 4.06, 2.69, 3.48, 3.75, 1.94, 3.67, 2.46, 2.57, 3.24,\n",
       "        3.96, 2.33]))"
      ]
     },
     "execution_count": 37,
     "metadata": {},
     "output_type": "execute_result"
    }
   ],
   "source": [
    "X,Y"
   ]
  },
  {
   "cell_type": "code",
   "execution_count": 39,
   "metadata": {},
   "outputs": [],
   "source": [
    "from sklearn.model_selection import train_test_split\n",
    "X_train,X_test,Y_train,Y_test = train_test_split(X,Y,test_size=0.2,random_state=2)"
   ]
  },
  {
   "cell_type": "code",
   "execution_count": 40,
   "metadata": {},
   "outputs": [
    {
     "data": {
      "text/plain": [
       "((160, 1), (40, 1))"
      ]
     },
     "execution_count": 40,
     "metadata": {},
     "output_type": "execute_result"
    }
   ],
   "source": [
    "X_train.shape , X_test.shape"
   ]
  },
  {
   "cell_type": "code",
   "execution_count": 45,
   "metadata": {},
   "outputs": [
    {
     "name": "stdout",
     "output_type": "stream",
     "text": [
      "m : [0.55795197]\n",
      "b : [-0.89611192]\n"
     ]
    }
   ],
   "source": [
    "#object of class \n",
    "lr = Lreg()\n",
    "lr.fit(X_train,Y_train)"
   ]
  },
  {
   "cell_type": "code",
   "execution_count": 47,
   "metadata": {},
   "outputs": [
    {
     "name": "stdout",
     "output_type": "stream",
     "text": [
      "[[8.58]\n",
      " [7.15]\n",
      " [5.88]\n",
      " [6.22]\n",
      " [4.57]\n",
      " [4.79]\n",
      " [5.32]\n",
      " [6.86]\n",
      " [8.35]\n",
      " [6.87]\n",
      " [8.94]\n",
      " [7.9 ]\n",
      " [6.93]\n",
      " [5.91]\n",
      " [7.32]\n",
      " [7.82]\n",
      " [5.09]\n",
      " [7.42]\n",
      " [6.94]\n",
      " [7.73]\n",
      " [6.19]\n",
      " [7.28]\n",
      " [6.73]\n",
      " [7.2 ]\n",
      " [8.21]\n",
      " [6.75]\n",
      " [7.87]\n",
      " [7.6 ]\n",
      " [8.63]\n",
      " [5.12]\n",
      " [8.15]\n",
      " [7.36]\n",
      " [8.31]\n",
      " [6.6 ]\n",
      " [6.59]\n",
      " [7.47]\n",
      " [7.93]\n",
      " [6.29]\n",
      " [6.37]\n",
      " [6.47]]\n"
     ]
    }
   ],
   "source": [
    "lr_predict = lr.predict(X_test)\n"
   ]
  },
  {
   "cell_type": "code",
   "execution_count": 54,
   "metadata": {},
   "outputs": [
    {
     "data": {
      "text/plain": [
       "[<matplotlib.lines.Line2D at 0x2d47365f710>]"
      ]
     },
     "execution_count": 54,
     "metadata": {},
     "output_type": "execute_result"
    },
    {
     "data": {
      "image/png": "[encoded data removed]",
      "text/plain": [
       "<Figure size 640x480 with 1 Axes>"
      ]
     },
     "metadata": {},
     "output_type": "display_data"
    }
   ],
   "source": [
    "import matplotlib.pyplot as plt\n",
    "\n",
    "plt.scatter(lr_predict ,Y_test )\n",
    "plt.plot(lr_predict,Y_test)"
   ]
  },
  {
   "cell_type": "code",
   "execution_count": null,
   "metadata": {},
   "outputs": [],
   "source": []
  }
 ],
 "metadata": {
  "kernelspec": {
   "display_name": "Python 3",
   "language": "python",
   "name": "python3"
  },
  "language_info": {
   "codemirror_mode": {
    "name": "ipython",
    "version": 3
   },
   "file_extension": ".py",
   "mimetype": "text/x-python",
   "name": "python",
   "nbconvert_exporter": "python",
   "pygments_lexer": "ipython3",
   "version": "3.11.1"
  }
 },
 "nbformat": 4,
 "nbformat_minor": 2
}
