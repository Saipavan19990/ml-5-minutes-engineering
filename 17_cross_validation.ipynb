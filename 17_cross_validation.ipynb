{
 "cells": [
  {
   "cell_type": "markdown",
   "metadata": {},
   "source": [
    " **K-fold cross-validation**    :    is a technique used to evaluate the performance of a machine learning model. Here’s a brief overview:\n",
    "\n",
    "*Data Splitting* :\n",
    "     The dataset is randomly divided into ( k ) equal-sized subsets, known as “folds.”\n",
    "*Training and Validation*:\n",
    "     The model is trained ( k ) times. Each time, one of the ( k ) folds is used as the validation set, and the remaining ( k-1 ) folds are used for training.\n",
    "*Performance Averaging*:\n",
    "     The performance metric (e.g., accuracy, mean squared error) is calculated for each of the ( k ) iterations. The final performance estimate is the average of these ( k ) values.\n",
    "\n",
    "\n",
    "     \n",
    "This method helps ensure that the model generalizes well to unseen data by using different portions of the dataset for training and testing in multiple iterations12."
   ]
  },
  {
   "cell_type": "code",
   "execution_count": null,
   "metadata": {},
   "outputs": [],
   "source": []
  }
 ],
 "metadata": {
  "language_info": {
   "name": "python"
  }
 },
 "nbformat": 4,
 "nbformat_minor": 2
}
