{
 "cells": [
  {
   "cell_type": "code",
   "execution_count": 2,
   "metadata": {},
   "outputs": [
    {
     "name": "stdout",
     "output_type": "stream",
     "text": [
      "Shridar\n"
     ]
    }
   ],
   "source": [
    "class class1:\n",
    "    v1 = \"Shridar\"\n",
    "    v2=1\n",
    "    \n",
    "obj1 = class1()\n",
    "print(obj1.v1)"
   ]
  },
  {
   "cell_type": "code",
   "execution_count": 4,
   "metadata": {},
   "outputs": [],
   "source": [
    "obj1.v1=\"Girdhar\""
   ]
  },
  {
   "cell_type": "code",
   "execution_count": 7,
   "metadata": {},
   "outputs": [
    {
     "data": {
      "text/plain": [
       "<bound method c2.abc of <__main__.c2 object at 0x000001EA58452710>>"
      ]
     },
     "execution_count": 7,
     "metadata": {},
     "output_type": "execute_result"
    }
   ],
   "source": [
    "class c2:\n",
    "    def __init__(self,name):\n",
    "        self.name = name\n",
    "    roll_no = 1\n",
    "    \n",
    "    def abc(self):\n",
    "        print(\"name-->\",self.name)\n",
    "\n",
    "\n",
    "obj11 = c2(\"Saipavan\")\n",
    "obj11.abc\n"
   ]
  },
  {
   "cell_type": "code",
   "execution_count": null,
   "metadata": {},
   "outputs": [],
   "source": []
  }
 ],
 "metadata": {
  "kernelspec": {
   "display_name": "Python 3",
   "language": "python",
   "name": "python3"
  },
  "language_info": {
   "codemirror_mode": {
    "name": "ipython",
    "version": 3
   },
   "file_extension": ".py",
   "mimetype": "text/x-python",
   "name": "python",
   "nbconvert_exporter": "python",
   "pygments_lexer": "ipython3",
   "version": "3.11.1"
  }
 },
 "nbformat": 4,
 "nbformat_minor": 2
}
